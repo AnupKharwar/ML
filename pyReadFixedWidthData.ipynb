{
 "cells": [
  {
   "cell_type": "code",
   "execution_count": 3,
   "id": "639e31fa",
   "metadata": {},
   "outputs": [
    {
     "name": "stdout",
     "output_type": "stream",
     "text": [
      "SELECT InputtableName,FileTypeID, Width = STUFF(( SELECT  ',' + convert(varchar(3),[Length]) FROM [InboundExtractLayout_FixedWidth] As T2 WHERE T2.FileTypeID = T1.FileTypeID order by [order] FOR XML PATH (''), TYPE).value('.', 'varchar(max)'), 1, 1, '') ,Count(1) Column_Cnt, Parameter = STUFF(( SELECT ',' + '?' FROM [InboundExtractLayout_FixedWidth] As T2 WHERE T2.FileTypeID = T1.FileTypeID order by [order] FOR XML PATH (''), TYPE).value('.', 'varchar(max)'), 1, 1, '') FROM [InboundExtractLayout_FixedWidth] As T1 where T1.FileTypeID = 32GROUP BY FileTypeID,InputtableName \n"
     ]
    },
    {
     "data": {
      "text/plain": [
       "'\\nstrwidths = df.loc[0,\\'Width\\']\\nwidths = strwidth.split(\\',\\')\\nwidths = list(map(int, widths))\\n\\n#print(widths)\\n\\n# Using Pandas with a column specification\\n\\n\\nfor data in pd.read_fwf(path, chunksize = csize, header=None, widths=widths):\\n    data = data.fillna(value=\" \")\\n    #print(data)\\n    cursor = cnxn.cursor()\\n    cursor.fast_executemany = False\\n    Insert_stmt = \"INSERT INTO \"  +  database + \"..\" + df.loc[0,\\'InputtableName\\'] + \" values(\" + df.loc[0,\\'Parameter\\'] + \")\"\\n    #print(Insert_stmt)\\n    cursor.executemany(Insert_stmt, data.values.tolist())\\n    cursor.commit()\\n    cursor.close()\\n\\n\\ncnxn.close()\\n'"
      ]
     },
     "execution_count": 3,
     "metadata": {},
     "output_type": "execute_result"
    }
   ],
   "source": [
    "import pandas as pd\n",
    "import pyodbc as py\n",
    "import sys\n",
    "\n",
    "\n",
    "path = 'C:\\Anup\\Test\\TestMember.txt'\n",
    "server = 'XX.XX.XX.XX'\n",
    "username = 'DADevUser'\n",
    "password = 'XXXXXX'\n",
    "database = 'DataAnalytics_Datamart'\n",
    "filetypeid = '32'\n",
    "csize = 10000\n",
    "\n",
    "#path = sys.argv[1]\n",
    "#server = sys.argv[2]\n",
    "#username = sys.argv[3]\n",
    "#password = sys.argv[4]\n",
    "#database = sys.argv[5]\n",
    "#filetypeid = sys.argv[6]\n",
    "#csize = sys.argv[7]\n",
    "\n",
    "\n",
    "connStr = (r'DRIVER={ODBC Driver 17 for SQL Server};' +\n",
    "           r\"Integrated Security=True;\" +\n",
    "           r'SERVER=' + server +\n",
    "           r';UID=' + username +\n",
    "           r';PWD=' + password +\n",
    "           r';DSN=MSSQL-PYTHON' +\n",
    "           r';DATABASE=' + database + ';'\n",
    "           )\n",
    "# =============================================================================\n",
    "# CONNECT TO THE DB\n",
    "# =============================================================================\n",
    "cnxn = py.connect(connStr, autocommit=True)\n",
    "\n",
    "\n",
    "SQLQUERY1 = (\"SELECT InputtableName,FileTypeID, Width = STUFF(( \")\n",
    "SQLQUERY1 = SQLQUERY1 + (\"SELECT  ',' + convert(varchar(3),[Length]) \")\n",
    "SQLQUERY1 = SQLQUERY1 + (\"FROM [InboundExtractLayout_FixedWidth] As T2 \")\n",
    "SQLQUERY1 = SQLQUERY1 + (\"WHERE T2.FileTypeID = T1.FileTypeID \")\n",
    "SQLQUERY1 = SQLQUERY1 + (\"order by [order] \")\n",
    "SQLQUERY1 = SQLQUERY1 + (\"FOR XML PATH (''), TYPE).value('.', 'varchar(max)'), 1, 1, '') \")\n",
    "SQLQUERY1 = SQLQUERY1 + (\",Count(1) Column_Cnt, \")\n",
    "SQLQUERY1 = SQLQUERY1 + (\"Parameter = STUFF(( \")\n",
    "SQLQUERY1 = SQLQUERY1 + (\"SELECT ',' + '?' \")\n",
    "SQLQUERY1 = SQLQUERY1 + (\"FROM [InboundExtractLayout_FixedWidth] As  T2 \")\n",
    "SQLQUERY1 = SQLQUERY1 + (\"WHERE T2.FileTypeID = T1.FileTypeID \")\n",
    "SQLQUERY1 = SQLQUERY1 + (\"order by [order] \")\n",
    "SQLQUERY1 = SQLQUERY1 + (\"FOR XML PATH (''), TYPE).value('.', 'varchar(max)'), 1, 1, '') \")\n",
    "SQLQUERY1 = SQLQUERY1 + (\"FROM [InboundExtractLayout_FixedWidth] As T1 \")\n",
    "SQLQUERY1 = SQLQUERY1 + (\"where T1.FileTypeID = \") + filetypeid\n",
    "SQLQUERY1 = SQLQUERY1 + (\"GROUP BY FileTypeID, InputtableName \")\n",
    "print(SQLQUERY1)\n",
    "df = pd.read_sql(SQLQUERY1, cnxn)\n",
    "#print(df)\n",
    "\n",
    "\n",
    "strwidths = df.loc[0,'Width']\n",
    "widths = strwidth.split(',')\n",
    "widths = list(map(int, widths))\n",
    "\n",
    "#print(widths)\n",
    "\n",
    "# Using Pandas with a column specification\n",
    "\n",
    "\n",
    "for data in pd.read_fwf(path, chunksize = csize, header=None, widths=widths):\n",
    "    data = data.fillna(value=\" \")\n",
    "    #print(data)\n",
    "    cursor = cnxn.cursor()\n",
    "    cursor.fast_executemany = False\n",
    "    Insert_stmt = \"INSERT INTO \"  +  database + \"..\" + df.loc[0,'InputtableName'] + \" values(\" + df.loc[0,'Parameter'] + \")\"\n",
    "    #print(Insert_stmt)\n",
    "    cursor.executemany(Insert_stmt, data.values.tolist())\n",
    "    cursor.commit()\n",
    "    cursor.close()\n",
    "\n",
    "\n",
    "cnxn.close()\n"
   ]
  },
  {
   "cell_type": "code",
   "execution_count": null,
   "id": "736fb039",
   "metadata": {},
   "outputs": [],
   "source": []
  },
  {
   "cell_type": "code",
   "execution_count": null,
   "id": "81eaf011",
   "metadata": {},
   "outputs": [],
   "source": []
  },
  {
   "cell_type": "code",
   "execution_count": null,
   "id": "cbaa038f",
   "metadata": {},
   "outputs": [],
   "source": []
  }
 ],
 "metadata": {
  "kernelspec": {
   "display_name": "Python 3",
   "language": "python",
   "name": "python3"
  },
  "language_info": {
   "codemirror_mode": {
    "name": "ipython",
    "version": 3
   },
   "file_extension": ".py",
   "mimetype": "text/x-python",
   "name": "python",
   "nbconvert_exporter": "python",
   "pygments_lexer": "ipython3",
   "version": "3.8.8"
  }
 },
 "nbformat": 4,
 "nbformat_minor": 5
}
